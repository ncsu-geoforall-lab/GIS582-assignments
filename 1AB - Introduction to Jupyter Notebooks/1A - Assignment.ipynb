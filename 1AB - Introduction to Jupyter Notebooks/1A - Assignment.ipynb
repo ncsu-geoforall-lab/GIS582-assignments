{
 "cells": [
  {
   "cell_type": "markdown",
   "id": "1b22d189-c825-439a-86db-760a518f9ec1",
   "metadata": {},
   "source": [
    "# NCSU GIS 582: Geospatial Modeling and Analysis\n",
    "\n",
    "## Introduction to Jupyter Notebooks Assignment A"
   ]
  },
  {
   "cell_type": "markdown",
   "id": "c710624b-751f-4164-a596-bbcb8f8b0055",
   "metadata": {},
   "source": [
    "_YOUR NAME AND DATE HERE_"
   ]
  },
  {
   "cell_type": "markdown",
   "id": "d9af702a-f90b-41d7-9115-03865c8349e3",
   "metadata": {},
   "source": [
    "## Task 1: Practice Using Markdown\n",
    "\n",
    "Write a short paragraph (3-4 sentences) describing when or why you might choose to use a computational notebook. You can also give feedback on this tutorial or your thoughts about introducing computational notebooks to the course. Include:\n",
    "- **a picture**\n",
    "- **a link** to a website\n",
    "- **at least 2 Markdown formatters** (i.e., bullet points, bold text, headers)"
   ]
  },
  {
   "cell_type": "code",
   "execution_count": null,
   "id": "9512982a-d877-4ba7-91a0-5691b3282c8a",
   "metadata": {},
   "outputs": [],
   "source": []
  },
  {
   "cell_type": "markdown",
   "id": "28254121-a513-4c8e-93ca-f30909ceb5c0",
   "metadata": {},
   "source": [
    "## Task 2: Mix Narration and Code\n",
    "\n",
    "Write a short snippet of Python code that creates a plot of a sine wave (or some other mathematical function if you’re feeling creative). Feel free to use chatgpt. Explain your workflow by using a mix of markdown and code cells."
   ]
  },
  {
   "cell_type": "code",
   "execution_count": null,
   "id": "5390ecd8-9b8e-4bc5-9693-5b8015b87b7f",
   "metadata": {},
   "outputs": [],
   "source": []
  }
 ],
 "metadata": {
  "kernelspec": {
   "display_name": "GRASS GIS",
   "language": "python",
   "name": "grass"
  },
  "language_info": {
   "codemirror_mode": {
    "name": "ipython",
    "version": 3
   },
   "file_extension": ".py",
   "mimetype": "text/x-python",
   "name": "python",
   "nbconvert_exporter": "python",
   "pygments_lexer": "ipython3",
   "version": "3.12.2"
  }
 },
 "nbformat": 4,
 "nbformat_minor": 5
}
