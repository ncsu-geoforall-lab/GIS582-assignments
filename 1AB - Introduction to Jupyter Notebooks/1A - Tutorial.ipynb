{
 "cells": [
  {
   "cell_type": "markdown",
   "id": "ecc08456-7af5-4fe4-abb8-ae54633d4e9f",
   "metadata": {},
   "source": [
    "# NCSU GIS 582: Geospatial Modeling and Analysis\n",
    "\n",
    "## Introduction to Jupyter Notebooks Tutorial A\n",
    "\n",
    "### Outline:\n",
    "\n",
    "- Notebook Foundations:\n",
    "    - What’s a notebook? \n",
    "    - Who uses notebooks?\n",
    "    - Why are we using notebooks?\n",
    "- Working in Notebooks\n",
    "- FAQs"
   ]
  },
  {
   "cell_type": "markdown",
   "id": "b67e2c20-e775-47f7-9a84-370b1888661b",
   "metadata": {},
   "source": [
    "***\n",
    "\n",
    "## 1. Notebook Foundations"
   ]
  },
  {
   "cell_type": "markdown",
   "id": "25822695-0220-4221-b2ad-9f788cdec777",
   "metadata": {},
   "source": [
    "### _What's a computational notebook?_"
   ]
  },
  {
   "cell_type": "code",
   "execution_count": null,
   "id": "b164ec33-2009-45cc-abe5-74c35ccea82c",
   "metadata": {
    "tags": []
   },
   "outputs": [],
   "source": [
    "from IPython.display import IFrame\n",
    "\n",
    "IFrame(src='https://youtube.com/embed/J5jW-3FVO-I?si=09x-i-k-3L3jYbw6', width='600', height='400')"
   ]
  },
  {
   "cell_type": "markdown",
   "id": "4c11f389-1e19-4bef-8421-0a410cd6b387",
   "metadata": {},
   "source": [
    "**Computational Notebook** \n",
    "\n",
    "> _a document that mixes live code with narration and code output._\n",
    "\n",
    "**_Examples_**:\n",
    "- [Jupyter Notebooks](https://jupyter.org/)\n",
    "- [ArcGIS Notebooks](https://www.esri.com/en-us/arcgis/products/arcgis-notebooks/overview)\n",
    "- [Quarto](https://quarto.org/)\n",
    "- [Google Colab](https://colab.research.google.com/)\n",
    "- [Wolfram Mathmatica](https://www.wolfram.com/notebooks/)\n",
    "- [Observable](https://observablehq.com/documentation/notebooks/)\n",
    "\n",
    "This course uses Jupyter Notebooks hosted on a Jupyter Hub."
   ]
  },
  {
   "cell_type": "markdown",
   "id": "509b3942-7068-46d0-a434-7542ab023f85",
   "metadata": {},
   "source": [
    "### _Who uses notebooks?_\n",
    "\n",
    "Notebooks are increasingly popular among data analysts, data scientists, programmers, and scientists (check out [this Nature article](https://www.nature.com/articles/d41586-018-07196-1)). For example, [this data science tutorial](https://www.earthdatascience.org/courses/use-data-open-source-python/intro-vector-data-python/spatial-data-vector-shapefiles/) was created from a notebook. Or, check out [this Master's-level course on Geospatial Data Analysis](https://uwgda-jupyterbook.readthedocs.io/en/latest/intro.html) that entirely notebook-based (even the website is created from notebooks!). Even academic journals like [AGU](https://agu.curve.space/) are starting to introduce a notebook format so that notebooks can be submitted as a standalone journal articles. **Notebooks are a great way to develop and document your workflow, make your work reproducible and to share your work with others.**"
   ]
  },
  {
   "cell_type": "markdown",
   "id": "9574e98e-a241-42c6-818d-8efeecf21966",
   "metadata": {},
   "source": [
    "### _Why are we using notebooks?_\n",
    "\n",
    "1. **to improve coding skills** while still have written responses and narration\n",
    "2. **to practice using notebooks** as way to develop and share GRASS GIS workflows since notebooks are becoming a standard format you may encounter in the workforce\n",
    "3. **to streamline** labs, assignments and grading\n",
    "\n",
    "While we're currently just piloting them in one topic, we're moving towards converting more topics. Feel free to let us know what you think about this in [1A_Assignment.ipynb](./1A_Assignment.ipynb)."
   ]
  },
  {
   "cell_type": "markdown",
   "id": "9d812573-a2be-42ba-955a-82861dfc6ae3",
   "metadata": {},
   "source": [
    "***\n",
    "\n",
    "## 2. Working in Notebooks\n",
    "\n",
    "### _Code Cells_"
   ]
  },
  {
   "cell_type": "markdown",
   "id": "5ee41d31-5f46-4daa-9020-d09593d9fb1a",
   "metadata": {},
   "source": [
    "By default all cells are running Python. Notebooks can also run many many [other languages](https://github.com/jupyter/jupyter/wiki/Jupyter-kernels) with the installation of other interactive kernels."
   ]
  },
  {
   "cell_type": "code",
   "execution_count": null,
   "id": "5899ed6e-40f2-4655-b18c-8fa08222e485",
   "metadata": {},
   "outputs": [],
   "source": [
    "import sys\n",
    "v = sys.version_info\n",
    "print(f\"We are using Python {v.major}.{v.minor}.{v.micro}\")"
   ]
  },
  {
   "cell_type": "markdown",
   "id": "b1326633-9e9e-427f-a587-cbe8817c3954",
   "metadata": {},
   "source": [
    "We can also use `!` to run individual lines in the terminal."
   ]
  },
  {
   "cell_type": "code",
   "execution_count": null,
   "id": "bb4f3e3b-a620-4dd7-8776-90ba696f6b8b",
   "metadata": {},
   "outputs": [],
   "source": [
    "!echo Howdy"
   ]
  },
  {
   "cell_type": "markdown",
   "id": "7884e202-50f7-4823-85c4-b79927615e65",
   "metadata": {},
   "source": [
    "The code output is displayed after the cell. If the cell produces an error, the error is returned as output. \n",
    "\n",
    "Cells run in the order they are executed (i.e. code cells share a global scope where the last cell ran sets the current scope reguardless of cell placement or order in the notebook). The brackets to the left of each cell indicate execution order of each cell. If there is no number in the cell, it has not been executed. A `*` indicates the cell is currenting executing.\n",
    "\n",
    "You can confirm this by running the cells below. Drag the cells so that `b` has a value of `5`."
   ]
  },
  {
   "cell_type": "code",
   "execution_count": null,
   "id": "d47f1068-dca6-4859-9fd8-0b97dfb63d01",
   "metadata": {
    "tags": []
   },
   "outputs": [],
   "source": [
    "a = \"foo\""
   ]
  },
  {
   "cell_type": "code",
   "execution_count": null,
   "id": "bff897fb-cdb8-413e-a3c0-fcf773c384c0",
   "metadata": {
    "tags": []
   },
   "outputs": [],
   "source": [
    "b = a + 3\n",
    "b"
   ]
  },
  {
   "cell_type": "code",
   "execution_count": null,
   "id": "03393c15-34a7-49bb-9bcd-ee435821e203",
   "metadata": {
    "tags": []
   },
   "outputs": [],
   "source": [
    "a = 2"
   ]
  },
  {
   "cell_type": "markdown",
   "id": "ef3b6c3f-5938-47e5-927a-ec7d98f36d40",
   "metadata": {},
   "source": [
    "Here are some useful keyboard shortcuts in notebooks. You can use the shortcuts after hitting `esc` or clicking in the margins of the notebook:\n",
    "\n",
    "* `shift - enter` execute cell\n",
    "* `alt - enter` execute cell and insert new below\n",
    "* `esc` exit cursor/edit mode and enter command mode\n",
    "* `a` add cell above\n",
    "* `b` add cell below\n",
    "* `dd` delete cell\n",
    "* `x` cut selected cells\n",
    "* `c` copy selected cells\n",
    "* `v` paste cells below\n",
    "* `m` change cell to Markdown\n",
    "* `y` change cell to Code\n",
    "\n",
    "Try a few below!"
   ]
  },
  {
   "cell_type": "code",
   "execution_count": null,
   "id": "6635f996-826c-4531-b9b9-ba15bee62f71",
   "metadata": {},
   "outputs": [],
   "source": []
  },
  {
   "cell_type": "markdown",
   "id": "a7042d83-6923-42f8-93e3-67059fd7bd87",
   "metadata": {},
   "source": [
    "### _Markdown Cells_\n",
    "\n",
    "Markdown cells (such as this one) don't execute code but they **can** contain _nice_ formatting. **_Double click on this cell to see the raw Markdown. Run the cell to format it_**.\n",
    "\n",
    "They can also include `code` snippets:\n",
    "\n",
    "```\n",
    "def hello(name):\n",
    "    print(f\"hello {name}\")\n",
    "```\n",
    "\n",
    "# And Titles\n",
    "## Headings\n",
    "### Subheadings\n",
    "#### and Sub-subheadings\n",
    "\n",
    "> Quotes\n",
    "\n",
    "<div class=\"alert alert-info\">\n",
    "... and HTML formatting\n",
    "</div>\n",
    "\n",
    "\n",
    "... and even LaTex!\n",
    "\n",
    "$\n",
    "f(x) = \\int_{-\\infty}^{\\infty} e^{-x^2} dx\n",
    "$"
   ]
  },
  {
   "cell_type": "markdown",
   "id": "0b4badd6-382f-4a3b-b2e2-8442a79aeff8",
   "metadata": {},
   "source": [
    "***\n",
    "\n",
    "## 3. FAQ\n",
    "\n",
    "### _How do I submit my notebook assignments?_\n",
    "Under the `File > Save and Export Notebook as..` you'll find a variety of formats to save the notebook. Please submit the notebook to Moodle as a PDF.\n",
    "\n",
    "<img src=\"export_options.png\" alt=\"Notebook Export Options\" width=\"600\"/>\n",
    "\n",
    "### _What are some ways I can share a notebook?_\n",
    "In addition to all the export options found under the `File` menu, notebooks render on GitHub and can also be hosted on a variety of platforms such as [Binder](https://mybinder.org/), [WholeTale](https://wholetale.org/), [Google Colab](https://colab.research.google.com/). \n",
    "\n",
    "For notebooks associated with published work or that are referenced in a published work (such as a journal article), you can assign them a DOI and store them on [Zenodo](https://zenodo.org/)\n",
    "\n",
    "### _How do I set up GRASS GIS and Jupyter on my own computer?_\n",
    "Check out these tutorials:\n",
    "   - [GRASS GIS and Jupyter for Mac](https://github.com/ncsu-geoforall-lab/GIS714-assignments/blob/main/GRASS_GIS_Foundations/JupyterOnMac_Tutorial.ipynb)\n",
    "   - [GRASS GIS and Jupyter for Windows](https://github.com/ncsu-geoforall-lab/GIS714-assignments/blob/main/GRASS_GIS_Foundations/JupyterOnWindows_OSGeo4W_Tutorial.ipynb)\n"
   ]
  },
  {
   "cell_type": "markdown",
   "id": "c60d1366-02c0-4ecd-b27e-01ae38430292",
   "metadata": {},
   "source": [
    "## Acknowledgements\n",
    "\n",
    "These materials were created with support from the National Science Foundation (Award [2303651](https://www.nsf.gov/awardsearch/showAward?AWD_ID=2303651)), the Digital Education and Learning Technologies Applications (DELTA) Center at NC State University and the [Center for Geospatial Analytics](https://cnr.ncsu.edu/geospatial/) at NC State."
   ]
  }
 ],
 "metadata": {
  "kernelspec": {
   "display_name": "GRASS GIS",
   "language": "python",
   "name": "grass"
  },
  "language_info": {
   "codemirror_mode": {
    "name": "ipython",
    "version": 3
   },
   "file_extension": ".py",
   "mimetype": "text/x-python",
   "name": "python",
   "nbconvert_exporter": "python",
   "pygments_lexer": "ipython3",
   "version": "3.12.2"
  }
 },
 "nbformat": 4,
 "nbformat_minor": 5
}
